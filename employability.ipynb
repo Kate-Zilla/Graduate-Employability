{
 "cells": [
  {
   "cell_type": "markdown",
   "id": "54ca0a81",
   "metadata": {},
   "source": [
    "# Predicting Graduate Employability using Supvervised Learning\n",
    "\n",
    "This project will explore different ways to predict Graduate Employability using Supervised Learning on the Kaggle \"Graduate Employability Dataset\", found at URL: https://www.kaggle.com/datasets/sidraaazam/graduate-employability-dataset \n",
    "\n",
    "Note that for this project, I chose to download the .csv file directly to my machine. I've prevented it from uploading to git using .gitignore. If you would like to replicate this code, you'll need to download the csv from the abovementioned kaggle link. \n",
    "\n",
    "This project required 3 deliverables:\n",
    "1. This notebook\n",
    "2. A video presentation (powerpoint slides will be available on Git)\n",
    "3. A public GitHub repository, found here: https://github.com/Kate-Zilla/Graduate-Employability"
   ]
  },
  {
   "cell_type": "markdown",
   "id": "b51443d1",
   "metadata": {},
   "source": [
    "First, I'll start with import statements:"
   ]
  },
  {
   "cell_type": "code",
   "execution_count": 1,
   "id": "c7ed37d0",
   "metadata": {},
   "outputs": [],
   "source": [
    "%matplotlib inline\n",
    "import scipy as sp\n",
    "import scipy.stats as stats\n",
    "import pandas as pd\n",
    "import numpy as np\n",
    "import matplotlib.pyplot as plt\n",
    "import seaborn as sns\n",
    "import copy\n",
    "import statsmodels.formula.api as smf\n",
    "import statsmodels.api as sm\n",
    "import os\n",
    "from sklearn.model_selection import train_test_split\n",
    "from math import exp\n",
    "from sklearn.linear_model import LogisticRegression\n",
    "from sklearn.metrics import roc_auc_score\n",
    "from sklearn.metrics import roc_curve"
   ]
  },
  {
   "cell_type": "markdown",
   "id": "094ff7d5",
   "metadata": {},
   "source": [
    "# EDA: exploratory data analysis\n",
    "Here I will load and inspect the data"
   ]
  },
  {
   "cell_type": "code",
   "execution_count": 2,
   "id": "b660e057",
   "metadata": {},
   "outputs": [
    {
     "data": {
      "text/html": [
       "<div>\n",
       "<style scoped>\n",
       "    .dataframe tbody tr th:only-of-type {\n",
       "        vertical-align: middle;\n",
       "    }\n",
       "\n",
       "    .dataframe tbody tr th {\n",
       "        vertical-align: top;\n",
       "    }\n",
       "\n",
       "    .dataframe thead th {\n",
       "        text-align: right;\n",
       "    }\n",
       "</style>\n",
       "<table border=\"1\" class=\"dataframe\">\n",
       "  <thead>\n",
       "    <tr style=\"text-align: right;\">\n",
       "      <th></th>\n",
       "      <th>College_ID</th>\n",
       "      <th>IQ</th>\n",
       "      <th>Prev_Sem_Result</th>\n",
       "      <th>CGPA</th>\n",
       "      <th>Academic_Performance</th>\n",
       "      <th>Internship_Experience</th>\n",
       "      <th>Extra_Curricular_Score</th>\n",
       "      <th>Communication_Skills</th>\n",
       "      <th>Projects_Completed</th>\n",
       "      <th>Placement</th>\n",
       "    </tr>\n",
       "  </thead>\n",
       "  <tbody>\n",
       "    <tr>\n",
       "      <th>0</th>\n",
       "      <td>CLG0030</td>\n",
       "      <td>107</td>\n",
       "      <td>6.61</td>\n",
       "      <td>6.28</td>\n",
       "      <td>8</td>\n",
       "      <td>No</td>\n",
       "      <td>8</td>\n",
       "      <td>8</td>\n",
       "      <td>4</td>\n",
       "      <td>No</td>\n",
       "    </tr>\n",
       "    <tr>\n",
       "      <th>1</th>\n",
       "      <td>CLG0061</td>\n",
       "      <td>97</td>\n",
       "      <td>5.52</td>\n",
       "      <td>5.37</td>\n",
       "      <td>8</td>\n",
       "      <td>No</td>\n",
       "      <td>7</td>\n",
       "      <td>8</td>\n",
       "      <td>0</td>\n",
       "      <td>No</td>\n",
       "    </tr>\n",
       "    <tr>\n",
       "      <th>2</th>\n",
       "      <td>CLG0036</td>\n",
       "      <td>109</td>\n",
       "      <td>5.36</td>\n",
       "      <td>5.83</td>\n",
       "      <td>9</td>\n",
       "      <td>No</td>\n",
       "      <td>3</td>\n",
       "      <td>1</td>\n",
       "      <td>1</td>\n",
       "      <td>No</td>\n",
       "    </tr>\n",
       "    <tr>\n",
       "      <th>3</th>\n",
       "      <td>CLG0055</td>\n",
       "      <td>122</td>\n",
       "      <td>5.47</td>\n",
       "      <td>5.75</td>\n",
       "      <td>6</td>\n",
       "      <td>Yes</td>\n",
       "      <td>1</td>\n",
       "      <td>6</td>\n",
       "      <td>1</td>\n",
       "      <td>No</td>\n",
       "    </tr>\n",
       "    <tr>\n",
       "      <th>4</th>\n",
       "      <td>CLG0004</td>\n",
       "      <td>96</td>\n",
       "      <td>7.91</td>\n",
       "      <td>7.69</td>\n",
       "      <td>7</td>\n",
       "      <td>No</td>\n",
       "      <td>8</td>\n",
       "      <td>10</td>\n",
       "      <td>2</td>\n",
       "      <td>No</td>\n",
       "    </tr>\n",
       "  </tbody>\n",
       "</table>\n",
       "</div>"
      ],
      "text/plain": [
       "  College_ID   IQ  Prev_Sem_Result  CGPA  Academic_Performance  \\\n",
       "0    CLG0030  107             6.61  6.28                     8   \n",
       "1    CLG0061   97             5.52  5.37                     8   \n",
       "2    CLG0036  109             5.36  5.83                     9   \n",
       "3    CLG0055  122             5.47  5.75                     6   \n",
       "4    CLG0004   96             7.91  7.69                     7   \n",
       "\n",
       "  Internship_Experience  Extra_Curricular_Score  Communication_Skills  \\\n",
       "0                    No                       8                     8   \n",
       "1                    No                       7                     8   \n",
       "2                    No                       3                     1   \n",
       "3                   Yes                       1                     6   \n",
       "4                    No                       8                    10   \n",
       "\n",
       "   Projects_Completed Placement  \n",
       "0                   4        No  \n",
       "1                   0        No  \n",
       "2                   1        No  \n",
       "3                   1        No  \n",
       "4                   2        No  "
      ]
     },
     "execution_count": 2,
     "metadata": {},
     "output_type": "execute_result"
    }
   ],
   "source": [
    "df = pd.read_csv('CollegePlacement.csv')\n",
    "df.head()"
   ]
  },
  {
   "cell_type": "code",
   "execution_count": 3,
   "id": "9d413ae1",
   "metadata": {},
   "outputs": [
    {
     "name": "stdout",
     "output_type": "stream",
     "text": [
      "<class 'pandas.core.frame.DataFrame'>\n",
      "RangeIndex: 10000 entries, 0 to 9999\n",
      "Data columns (total 10 columns):\n",
      " #   Column                  Non-Null Count  Dtype  \n",
      "---  ------                  --------------  -----  \n",
      " 0   College_ID              10000 non-null  object \n",
      " 1   IQ                      10000 non-null  int64  \n",
      " 2   Prev_Sem_Result         10000 non-null  float64\n",
      " 3   CGPA                    10000 non-null  float64\n",
      " 4   Academic_Performance    10000 non-null  int64  \n",
      " 5   Internship_Experience   10000 non-null  object \n",
      " 6   Extra_Curricular_Score  10000 non-null  int64  \n",
      " 7   Communication_Skills    10000 non-null  int64  \n",
      " 8   Projects_Completed      10000 non-null  int64  \n",
      " 9   Placement               10000 non-null  object \n",
      "dtypes: float64(2), int64(5), object(3)\n",
      "memory usage: 781.4+ KB\n"
     ]
    }
   ],
   "source": [
    "df.info()"
   ]
  },
  {
   "cell_type": "code",
   "execution_count": 4,
   "id": "785515bd",
   "metadata": {},
   "outputs": [
    {
     "data": {
      "text/html": [
       "<div>\n",
       "<style scoped>\n",
       "    .dataframe tbody tr th:only-of-type {\n",
       "        vertical-align: middle;\n",
       "    }\n",
       "\n",
       "    .dataframe tbody tr th {\n",
       "        vertical-align: top;\n",
       "    }\n",
       "\n",
       "    .dataframe thead th {\n",
       "        text-align: right;\n",
       "    }\n",
       "</style>\n",
       "<table border=\"1\" class=\"dataframe\">\n",
       "  <thead>\n",
       "    <tr style=\"text-align: right;\">\n",
       "      <th></th>\n",
       "      <th>IQ</th>\n",
       "      <th>Prev_Sem_Result</th>\n",
       "      <th>CGPA</th>\n",
       "      <th>Academic_Performance</th>\n",
       "      <th>Extra_Curricular_Score</th>\n",
       "      <th>Communication_Skills</th>\n",
       "      <th>Projects_Completed</th>\n",
       "    </tr>\n",
       "  </thead>\n",
       "  <tbody>\n",
       "    <tr>\n",
       "      <th>count</th>\n",
       "      <td>10000.000000</td>\n",
       "      <td>10000.000000</td>\n",
       "      <td>10000.000000</td>\n",
       "      <td>10000.000000</td>\n",
       "      <td>10000.000000</td>\n",
       "      <td>10000.000000</td>\n",
       "      <td>10000.000000</td>\n",
       "    </tr>\n",
       "    <tr>\n",
       "      <th>mean</th>\n",
       "      <td>99.471800</td>\n",
       "      <td>7.535673</td>\n",
       "      <td>7.532379</td>\n",
       "      <td>5.546400</td>\n",
       "      <td>4.970900</td>\n",
       "      <td>5.561800</td>\n",
       "      <td>2.513400</td>\n",
       "    </tr>\n",
       "    <tr>\n",
       "      <th>std</th>\n",
       "      <td>15.053101</td>\n",
       "      <td>1.447519</td>\n",
       "      <td>1.470141</td>\n",
       "      <td>2.873477</td>\n",
       "      <td>3.160103</td>\n",
       "      <td>2.900866</td>\n",
       "      <td>1.715959</td>\n",
       "    </tr>\n",
       "    <tr>\n",
       "      <th>min</th>\n",
       "      <td>41.000000</td>\n",
       "      <td>5.000000</td>\n",
       "      <td>4.540000</td>\n",
       "      <td>1.000000</td>\n",
       "      <td>0.000000</td>\n",
       "      <td>1.000000</td>\n",
       "      <td>0.000000</td>\n",
       "    </tr>\n",
       "    <tr>\n",
       "      <th>25%</th>\n",
       "      <td>89.000000</td>\n",
       "      <td>6.290000</td>\n",
       "      <td>6.290000</td>\n",
       "      <td>3.000000</td>\n",
       "      <td>2.000000</td>\n",
       "      <td>3.000000</td>\n",
       "      <td>1.000000</td>\n",
       "    </tr>\n",
       "    <tr>\n",
       "      <th>50%</th>\n",
       "      <td>99.000000</td>\n",
       "      <td>7.560000</td>\n",
       "      <td>7.550000</td>\n",
       "      <td>6.000000</td>\n",
       "      <td>5.000000</td>\n",
       "      <td>6.000000</td>\n",
       "      <td>3.000000</td>\n",
       "    </tr>\n",
       "    <tr>\n",
       "      <th>75%</th>\n",
       "      <td>110.000000</td>\n",
       "      <td>8.790000</td>\n",
       "      <td>8.770000</td>\n",
       "      <td>8.000000</td>\n",
       "      <td>8.000000</td>\n",
       "      <td>8.000000</td>\n",
       "      <td>4.000000</td>\n",
       "    </tr>\n",
       "    <tr>\n",
       "      <th>max</th>\n",
       "      <td>158.000000</td>\n",
       "      <td>10.000000</td>\n",
       "      <td>10.460000</td>\n",
       "      <td>10.000000</td>\n",
       "      <td>10.000000</td>\n",
       "      <td>10.000000</td>\n",
       "      <td>5.000000</td>\n",
       "    </tr>\n",
       "  </tbody>\n",
       "</table>\n",
       "</div>"
      ],
      "text/plain": [
       "                 IQ  Prev_Sem_Result          CGPA  Academic_Performance  \\\n",
       "count  10000.000000     10000.000000  10000.000000          10000.000000   \n",
       "mean      99.471800         7.535673      7.532379              5.546400   \n",
       "std       15.053101         1.447519      1.470141              2.873477   \n",
       "min       41.000000         5.000000      4.540000              1.000000   \n",
       "25%       89.000000         6.290000      6.290000              3.000000   \n",
       "50%       99.000000         7.560000      7.550000              6.000000   \n",
       "75%      110.000000         8.790000      8.770000              8.000000   \n",
       "max      158.000000        10.000000     10.460000             10.000000   \n",
       "\n",
       "       Extra_Curricular_Score  Communication_Skills  Projects_Completed  \n",
       "count            10000.000000          10000.000000        10000.000000  \n",
       "mean                 4.970900              5.561800            2.513400  \n",
       "std                  3.160103              2.900866            1.715959  \n",
       "min                  0.000000              1.000000            0.000000  \n",
       "25%                  2.000000              3.000000            1.000000  \n",
       "50%                  5.000000              6.000000            3.000000  \n",
       "75%                  8.000000              8.000000            4.000000  \n",
       "max                 10.000000             10.000000            5.000000  "
      ]
     },
     "execution_count": 4,
     "metadata": {},
     "output_type": "execute_result"
    }
   ],
   "source": [
    "df.describe()"
   ]
  },
  {
   "cell_type": "markdown",
   "id": "046602b6",
   "metadata": {},
   "source": [
    "This reveals that there are 9 columns, including both placement and ID, that contain either object, int, or float dtypes. \n",
    "\n",
    "Below, I will display the unique values that exist in each column that has dtype == object. "
   ]
  },
  {
   "cell_type": "code",
   "execution_count": 5,
   "id": "33ebef00",
   "metadata": {},
   "outputs": [
    {
     "name": "stdout",
     "output_type": "stream",
     "text": [
      "College_ID ['CLG0030' 'CLG0061' 'CLG0036' 'CLG0055' 'CLG0004' 'CLG0015' 'CLG0071'\n",
      " 'CLG0096' 'CLG0097' 'CLG0057' 'CLG0063' 'CLG0077' 'CLG0064' 'CLG0017'\n",
      " 'CLG0053' 'CLG0040' 'CLG0070' 'CLG0050' 'CLG0068' 'CLG0072' 'CLG0034'\n",
      " 'CLG0087' 'CLG0073' 'CLG0024' 'CLG0008' 'CLG0025' 'CLG0018' 'CLG0014'\n",
      " 'CLG0006' 'CLG0082' 'CLG0090' 'CLG0075' 'CLG0094' 'CLG0089' 'CLG0016'\n",
      " 'CLG0076' 'CLG0047' 'CLG0054' 'CLG0058' 'CLG0100' 'CLG0046' 'CLG0001'\n",
      " 'CLG0041' 'CLG0093' 'CLG0027' 'CLG0062' 'CLG0081' 'CLG0028' 'CLG0020'\n",
      " 'CLG0051' 'CLG0069' 'CLG0088' 'CLG0038' 'CLG0029' 'CLG0035' 'CLG0019'\n",
      " 'CLG0005' 'CLG0026' 'CLG0066' 'CLG0045' 'CLG0043' 'CLG0074' 'CLG0048'\n",
      " 'CLG0012' 'CLG0099' 'CLG0011' 'CLG0091' 'CLG0083' 'CLG0080' 'CLG0044'\n",
      " 'CLG0059' 'CLG0031' 'CLG0039' 'CLG0065' 'CLG0079' 'CLG0095' 'CLG0085'\n",
      " 'CLG0033' 'CLG0007' 'CLG0037' 'CLG0032' 'CLG0049' 'CLG0056' 'CLG0084'\n",
      " 'CLG0067' 'CLG0098' 'CLG0042' 'CLG0021' 'CLG0009' 'CLG0010' 'CLG0078'\n",
      " 'CLG0013' 'CLG0003' 'CLG0092' 'CLG0086' 'CLG0023' 'CLG0022' 'CLG0060'\n",
      " 'CLG0002' 'CLG0052']\n",
      "Internship_Experience ['No' 'Yes']\n",
      "Placement ['No' 'Yes']\n"
     ]
    }
   ],
   "source": [
    "for c in df.columns:\n",
    "    if df[c].dtype == 'object':\n",
    "        print(c, df[c].unique())"
   ]
  },
  {
   "cell_type": "markdown",
   "id": "8058a00c",
   "metadata": {},
   "source": [
    "I will drop the college_ID column as identification number should have zero implications on whether or not someone is hired. The Placement column will be my target, as i will want to know whether or not a student is placed (employed). "
   ]
  },
  {
   "cell_type": "code",
   "execution_count": 6,
   "id": "8ee31aa2",
   "metadata": {},
   "outputs": [],
   "source": [
    "df = df.drop(['College_ID'], axis=1)"
   ]
  },
  {
   "cell_type": "markdown",
   "id": "3f765ac6",
   "metadata": {},
   "source": [
    "I will also map the internship experience and placement columns from \"Yes\", \"No\" to 1, 0 "
   ]
  },
  {
   "cell_type": "code",
   "execution_count": 7,
   "id": "65375399",
   "metadata": {},
   "outputs": [],
   "source": [
    "df['Placement'] = df['Placement'].map({'Yes': 1, 'No': 0})\n",
    "df['Internship_Experience'] = df['Internship_Experience'].map({'Yes': 1, 'No': 0})"
   ]
  },
  {
   "cell_type": "markdown",
   "id": "d297bb61",
   "metadata": {},
   "source": [
    "now I will make a pandas correlation matrix. "
   ]
  },
  {
   "cell_type": "code",
   "execution_count": 8,
   "id": "136a6de6",
   "metadata": {},
   "outputs": [
    {
     "data": {
      "text/html": [
       "<div>\n",
       "<style scoped>\n",
       "    .dataframe tbody tr th:only-of-type {\n",
       "        vertical-align: middle;\n",
       "    }\n",
       "\n",
       "    .dataframe tbody tr th {\n",
       "        vertical-align: top;\n",
       "    }\n",
       "\n",
       "    .dataframe thead th {\n",
       "        text-align: right;\n",
       "    }\n",
       "</style>\n",
       "<table border=\"1\" class=\"dataframe\">\n",
       "  <thead>\n",
       "    <tr style=\"text-align: right;\">\n",
       "      <th></th>\n",
       "      <th>IQ</th>\n",
       "      <th>Prev_Sem_Result</th>\n",
       "      <th>CGPA</th>\n",
       "      <th>Academic_Performance</th>\n",
       "      <th>Internship_Experience</th>\n",
       "      <th>Extra_Curricular_Score</th>\n",
       "      <th>Communication_Skills</th>\n",
       "      <th>Projects_Completed</th>\n",
       "      <th>Placement</th>\n",
       "    </tr>\n",
       "  </thead>\n",
       "  <tbody>\n",
       "    <tr>\n",
       "      <th>IQ</th>\n",
       "      <td>1.000000</td>\n",
       "      <td>-0.002640</td>\n",
       "      <td>-0.002859</td>\n",
       "      <td>-0.006827</td>\n",
       "      <td>-0.000247</td>\n",
       "      <td>-0.003458</td>\n",
       "      <td>-0.010896</td>\n",
       "      <td>0.014538</td>\n",
       "      <td>0.285914</td>\n",
       "    </tr>\n",
       "    <tr>\n",
       "      <th>Prev_Sem_Result</th>\n",
       "      <td>-0.002640</td>\n",
       "      <td>1.000000</td>\n",
       "      <td>0.980768</td>\n",
       "      <td>-0.005765</td>\n",
       "      <td>-0.013347</td>\n",
       "      <td>0.009326</td>\n",
       "      <td>-0.017269</td>\n",
       "      <td>0.018434</td>\n",
       "      <td>0.317896</td>\n",
       "    </tr>\n",
       "    <tr>\n",
       "      <th>CGPA</th>\n",
       "      <td>-0.002859</td>\n",
       "      <td>0.980768</td>\n",
       "      <td>1.000000</td>\n",
       "      <td>-0.002958</td>\n",
       "      <td>-0.012562</td>\n",
       "      <td>0.011441</td>\n",
       "      <td>-0.018242</td>\n",
       "      <td>0.020872</td>\n",
       "      <td>0.321607</td>\n",
       "    </tr>\n",
       "    <tr>\n",
       "      <th>Academic_Performance</th>\n",
       "      <td>-0.006827</td>\n",
       "      <td>-0.005765</td>\n",
       "      <td>-0.002958</td>\n",
       "      <td>1.000000</td>\n",
       "      <td>0.025903</td>\n",
       "      <td>0.011774</td>\n",
       "      <td>-0.019733</td>\n",
       "      <td>-0.013148</td>\n",
       "      <td>-0.014920</td>\n",
       "    </tr>\n",
       "    <tr>\n",
       "      <th>Internship_Experience</th>\n",
       "      <td>-0.000247</td>\n",
       "      <td>-0.013347</td>\n",
       "      <td>-0.012562</td>\n",
       "      <td>0.025903</td>\n",
       "      <td>1.000000</td>\n",
       "      <td>0.002093</td>\n",
       "      <td>-0.020437</td>\n",
       "      <td>-0.010260</td>\n",
       "      <td>-0.005841</td>\n",
       "    </tr>\n",
       "    <tr>\n",
       "      <th>Extra_Curricular_Score</th>\n",
       "      <td>-0.003458</td>\n",
       "      <td>0.009326</td>\n",
       "      <td>0.011441</td>\n",
       "      <td>0.011774</td>\n",
       "      <td>0.002093</td>\n",
       "      <td>1.000000</td>\n",
       "      <td>0.003769</td>\n",
       "      <td>0.008122</td>\n",
       "      <td>-0.004740</td>\n",
       "    </tr>\n",
       "    <tr>\n",
       "      <th>Communication_Skills</th>\n",
       "      <td>-0.010896</td>\n",
       "      <td>-0.017269</td>\n",
       "      <td>-0.018242</td>\n",
       "      <td>-0.019733</td>\n",
       "      <td>-0.020437</td>\n",
       "      <td>0.003769</td>\n",
       "      <td>1.000000</td>\n",
       "      <td>-0.004486</td>\n",
       "      <td>0.323155</td>\n",
       "    </tr>\n",
       "    <tr>\n",
       "      <th>Projects_Completed</th>\n",
       "      <td>0.014538</td>\n",
       "      <td>0.018434</td>\n",
       "      <td>0.020872</td>\n",
       "      <td>-0.013148</td>\n",
       "      <td>-0.010260</td>\n",
       "      <td>0.008122</td>\n",
       "      <td>-0.004486</td>\n",
       "      <td>1.000000</td>\n",
       "      <td>0.217499</td>\n",
       "    </tr>\n",
       "    <tr>\n",
       "      <th>Placement</th>\n",
       "      <td>0.285914</td>\n",
       "      <td>0.317896</td>\n",
       "      <td>0.321607</td>\n",
       "      <td>-0.014920</td>\n",
       "      <td>-0.005841</td>\n",
       "      <td>-0.004740</td>\n",
       "      <td>0.323155</td>\n",
       "      <td>0.217499</td>\n",
       "      <td>1.000000</td>\n",
       "    </tr>\n",
       "  </tbody>\n",
       "</table>\n",
       "</div>"
      ],
      "text/plain": [
       "                              IQ  Prev_Sem_Result      CGPA  \\\n",
       "IQ                      1.000000        -0.002640 -0.002859   \n",
       "Prev_Sem_Result        -0.002640         1.000000  0.980768   \n",
       "CGPA                   -0.002859         0.980768  1.000000   \n",
       "Academic_Performance   -0.006827        -0.005765 -0.002958   \n",
       "Internship_Experience  -0.000247        -0.013347 -0.012562   \n",
       "Extra_Curricular_Score -0.003458         0.009326  0.011441   \n",
       "Communication_Skills   -0.010896        -0.017269 -0.018242   \n",
       "Projects_Completed      0.014538         0.018434  0.020872   \n",
       "Placement               0.285914         0.317896  0.321607   \n",
       "\n",
       "                        Academic_Performance  Internship_Experience  \\\n",
       "IQ                                 -0.006827              -0.000247   \n",
       "Prev_Sem_Result                    -0.005765              -0.013347   \n",
       "CGPA                               -0.002958              -0.012562   \n",
       "Academic_Performance                1.000000               0.025903   \n",
       "Internship_Experience               0.025903               1.000000   \n",
       "Extra_Curricular_Score              0.011774               0.002093   \n",
       "Communication_Skills               -0.019733              -0.020437   \n",
       "Projects_Completed                 -0.013148              -0.010260   \n",
       "Placement                          -0.014920              -0.005841   \n",
       "\n",
       "                        Extra_Curricular_Score  Communication_Skills  \\\n",
       "IQ                                   -0.003458             -0.010896   \n",
       "Prev_Sem_Result                       0.009326             -0.017269   \n",
       "CGPA                                  0.011441             -0.018242   \n",
       "Academic_Performance                  0.011774             -0.019733   \n",
       "Internship_Experience                 0.002093             -0.020437   \n",
       "Extra_Curricular_Score                1.000000              0.003769   \n",
       "Communication_Skills                  0.003769              1.000000   \n",
       "Projects_Completed                    0.008122             -0.004486   \n",
       "Placement                            -0.004740              0.323155   \n",
       "\n",
       "                        Projects_Completed  Placement  \n",
       "IQ                                0.014538   0.285914  \n",
       "Prev_Sem_Result                   0.018434   0.317896  \n",
       "CGPA                              0.020872   0.321607  \n",
       "Academic_Performance             -0.013148  -0.014920  \n",
       "Internship_Experience            -0.010260  -0.005841  \n",
       "Extra_Curricular_Score            0.008122  -0.004740  \n",
       "Communication_Skills             -0.004486   0.323155  \n",
       "Projects_Completed                1.000000   0.217499  \n",
       "Placement                         0.217499   1.000000  "
      ]
     },
     "execution_count": 8,
     "metadata": {},
     "output_type": "execute_result"
    }
   ],
   "source": [
    "df.corr(numeric_only=True)"
   ]
  },
  {
   "cell_type": "markdown",
   "id": "bd53fe77",
   "metadata": {},
   "source": [
    "here is a heatmap of the above correlation matrix"
   ]
  },
  {
   "cell_type": "code",
   "execution_count": 9,
   "id": "c1ada484",
   "metadata": {},
   "outputs": [
    {
     "data": {
      "text/plain": [
       "<Axes: >"
      ]
     },
     "execution_count": 9,
     "metadata": {},
     "output_type": "execute_result"
    },
    {
     "data": {
      "image/png": "[encoded data removed]",
      "text/plain": [
       "<Figure size 640x480 with 2 Axes>"
      ]
     },
     "metadata": {},
     "output_type": "display_data"
    }
   ],
   "source": [
    "sns.heatmap(df.corr(numeric_only=True),cmap=\"plasma\")"
   ]
  },
  {
   "cell_type": "markdown",
   "id": "3f2164a1",
   "metadata": {},
   "source": [
    "There's not a lot of strong correlation shown here, except the previous semester's GPA and current GPA are strongly correlated. I'll drop the previous semester's GPA since I do not need both. "
   ]
  },
  {
   "cell_type": "code",
   "execution_count": 10,
   "id": "4f26f393",
   "metadata": {},
   "outputs": [],
   "source": [
    "df = df.drop(['Prev_Sem_Result'],axis=1)"
   ]
  },
  {
   "cell_type": "code",
   "execution_count": 11,
   "id": "ab9090c1",
   "metadata": {},
   "outputs": [
    {
     "data": {
      "text/html": [
       "<div>\n",
       "<style scoped>\n",
       "    .dataframe tbody tr th:only-of-type {\n",
       "        vertical-align: middle;\n",
       "    }\n",
       "\n",
       "    .dataframe tbody tr th {\n",
       "        vertical-align: top;\n",
       "    }\n",
       "\n",
       "    .dataframe thead th {\n",
       "        text-align: right;\n",
       "    }\n",
       "</style>\n",
       "<table border=\"1\" class=\"dataframe\">\n",
       "  <thead>\n",
       "    <tr style=\"text-align: right;\">\n",
       "      <th></th>\n",
       "      <th>IQ</th>\n",
       "      <th>CGPA</th>\n",
       "      <th>Academic_Performance</th>\n",
       "      <th>Internship_Experience</th>\n",
       "      <th>Extra_Curricular_Score</th>\n",
       "      <th>Communication_Skills</th>\n",
       "      <th>Projects_Completed</th>\n",
       "      <th>Placement</th>\n",
       "    </tr>\n",
       "  </thead>\n",
       "  <tbody>\n",
       "    <tr>\n",
       "      <th>0</th>\n",
       "      <td>107</td>\n",
       "      <td>6.28</td>\n",
       "      <td>8</td>\n",
       "      <td>0</td>\n",
       "      <td>8</td>\n",
       "      <td>8</td>\n",
       "      <td>4</td>\n",
       "      <td>0</td>\n",
       "    </tr>\n",
       "    <tr>\n",
       "      <th>1</th>\n",
       "      <td>97</td>\n",
       "      <td>5.37</td>\n",
       "      <td>8</td>\n",
       "      <td>0</td>\n",
       "      <td>7</td>\n",
       "      <td>8</td>\n",
       "      <td>0</td>\n",
       "      <td>0</td>\n",
       "    </tr>\n",
       "    <tr>\n",
       "      <th>2</th>\n",
       "      <td>109</td>\n",
       "      <td>5.83</td>\n",
       "      <td>9</td>\n",
       "      <td>0</td>\n",
       "      <td>3</td>\n",
       "      <td>1</td>\n",
       "      <td>1</td>\n",
       "      <td>0</td>\n",
       "    </tr>\n",
       "    <tr>\n",
       "      <th>3</th>\n",
       "      <td>122</td>\n",
       "      <td>5.75</td>\n",
       "      <td>6</td>\n",
       "      <td>1</td>\n",
       "      <td>1</td>\n",
       "      <td>6</td>\n",
       "      <td>1</td>\n",
       "      <td>0</td>\n",
       "    </tr>\n",
       "    <tr>\n",
       "      <th>4</th>\n",
       "      <td>96</td>\n",
       "      <td>7.69</td>\n",
       "      <td>7</td>\n",
       "      <td>0</td>\n",
       "      <td>8</td>\n",
       "      <td>10</td>\n",
       "      <td>2</td>\n",
       "      <td>0</td>\n",
       "    </tr>\n",
       "  </tbody>\n",
       "</table>\n",
       "</div>"
      ],
      "text/plain": [
       "    IQ  CGPA  Academic_Performance  Internship_Experience  \\\n",
       "0  107  6.28                     8                      0   \n",
       "1   97  5.37                     8                      0   \n",
       "2  109  5.83                     9                      0   \n",
       "3  122  5.75                     6                      1   \n",
       "4   96  7.69                     7                      0   \n",
       "\n",
       "   Extra_Curricular_Score  Communication_Skills  Projects_Completed  Placement  \n",
       "0                       8                     8                   4          0  \n",
       "1                       7                     8                   0          0  \n",
       "2                       3                     1                   1          0  \n",
       "3                       1                     6                   1          0  \n",
       "4                       8                    10                   2          0  "
      ]
     },
     "execution_count": 11,
     "metadata": {},
     "output_type": "execute_result"
    }
   ],
   "source": [
    "df.head()"
   ]
  },
  {
   "cell_type": "markdown",
   "id": "6746f40c",
   "metadata": {},
   "source": [
    "here's the consolidated dataset info:"
   ]
  },
  {
   "cell_type": "code",
   "execution_count": 12,
   "id": "a6dcb1ca",
   "metadata": {},
   "outputs": [
    {
     "name": "stdout",
     "output_type": "stream",
     "text": [
      "<class 'pandas.core.frame.DataFrame'>\n",
      "RangeIndex: 10000 entries, 0 to 9999\n",
      "Data columns (total 8 columns):\n",
      " #   Column                  Non-Null Count  Dtype  \n",
      "---  ------                  --------------  -----  \n",
      " 0   IQ                      10000 non-null  int64  \n",
      " 1   CGPA                    10000 non-null  float64\n",
      " 2   Academic_Performance    10000 non-null  int64  \n",
      " 3   Internship_Experience   10000 non-null  int64  \n",
      " 4   Extra_Curricular_Score  10000 non-null  int64  \n",
      " 5   Communication_Skills    10000 non-null  int64  \n",
      " 6   Projects_Completed      10000 non-null  int64  \n",
      " 7   Placement               10000 non-null  int64  \n",
      "dtypes: float64(1), int64(7)\n",
      "memory usage: 625.1 KB\n"
     ]
    }
   ],
   "source": [
    "df.info()"
   ]
  },
  {
   "cell_type": "markdown",
   "id": "ebb497b8",
   "metadata": {},
   "source": [
    "# Simple Linear Regression\n",
    "Here I'll analyze the data using a simple linear regression model"
   ]
  },
  {
   "cell_type": "code",
   "execution_count": 13,
   "id": "2360368a",
   "metadata": {},
   "outputs": [
    {
     "name": "stdout",
     "output_type": "stream",
     "text": [
      "8000\n",
      "2000\n"
     ]
    }
   ],
   "source": [
    "#I'll do an 80/20 split\n",
    "X_train, X_test = train_test_split(df, test_size = 0.2)\n",
    "\n",
    "#print\n",
    "print(len(X_train))\n",
    "print(len(X_test))"
   ]
  },
  {
   "cell_type": "markdown",
   "id": "22f6f9b2",
   "metadata": {},
   "source": [
    "Here, I'm just curious what CGPA does to Placement. I will run further tests, this is just an initial look. "
   ]
  },
  {
   "cell_type": "code",
   "execution_count": 14,
   "id": "07803cb6",
   "metadata": {},
   "outputs": [
    {
     "name": "stdout",
     "output_type": "stream",
     "text": [
      "                            OLS Regression Results                            \n",
      "==============================================================================\n",
      "Dep. Variable:              Placement   R-squared:                       0.102\n",
      "Model:                            OLS   Adj. R-squared:                  0.101\n",
      "Method:                 Least Squares   F-statistic:                     904.5\n",
      "Date:                Thu, 02 Oct 2025   Prob (F-statistic):          2.31e-188\n",
      "Time:                        14:13:24   Log-Likelihood:                -3006.5\n",
      "No. Observations:                8000   AIC:                             6017.\n",
      "Df Residuals:                    7998   BIC:                             6031.\n",
      "Df Model:                           1                                         \n",
      "Covariance Type:            nonrobust                                         \n",
      "==============================================================================\n",
      "                 coef    std err          t      P>|t|      [0.025      0.975]\n",
      "------------------------------------------------------------------------------\n",
      "Intercept     -0.4411      0.021    -21.460      0.000      -0.481      -0.401\n",
      "CGPA           0.0805      0.003     30.076      0.000       0.075       0.086\n",
      "==============================================================================\n",
      "Omnibus:                     1789.877   Durbin-Watson:                   2.012\n",
      "Prob(Omnibus):                  0.000   Jarque-Bera (JB):             3231.441\n",
      "Skew:                           1.491   Prob(JB):                         0.00\n",
      "Kurtosis:                       3.893   Cond. No.                         40.7\n",
      "==============================================================================\n",
      "\n",
      "Notes:\n",
      "[1] Standard Errors assume that the covariance matrix of the errors is correctly specified.\n"
     ]
    }
   ],
   "source": [
    "model = smf.ols(formula ='Placement ~ CGPA', data=X_train).fit()\n",
    "print(model.summary())\n",
    "adj_R2 = model.rsquared_adj"
   ]
  },
  {
   "cell_type": "markdown",
   "id": "db2a14a0",
   "metadata": {},
   "source": [
    "That gave a fairly low R-squared value, so I predict there will be a better predictor in the context of linear regression. Below I will find the top 3 predictors. "
   ]
  },
  {
   "cell_type": "code",
   "execution_count": 15,
   "id": "bb6a5abc",
   "metadata": {},
   "outputs": [
    {
     "name": "stdout",
     "output_type": "stream",
     "text": [
      "['CGPA', 'Communication_Skills', 'IQ']\n"
     ]
    }
   ],
   "source": [
    "predictors = X_train.columns.drop('Placement')\n",
    "adj_r2_scores = {}\n",
    "\n",
    "for predictor in predictors:\n",
    "    formula = f'Placement ~ {predictor}'\n",
    "    model = smf.ols(formula=formula, data = X_train).fit()\n",
    "    adj_r2_scores[predictor] = model.rsquared_adj\n",
    "    \n",
    "sorted_predictors = sorted(adj_r2_scores.items(), key = lambda x: x[1], reverse = True)\n",
    "\n",
    "#getting my top three\n",
    "top_three = [predictor for predictor, score in sorted_predictors[:3]]\n",
    "print(top_three)"
   ]
  },
  {
   "cell_type": "markdown",
   "id": "631c59fa",
   "metadata": {},
   "source": [
    "Interesting that CGPA ended up being a top predictor. This shows me that a linear regression model might not be the best choice.  "
   ]
  },
  {
   "cell_type": "markdown",
   "id": "0b1ce57d",
   "metadata": {},
   "source": [
    "# MultiLinear Regression\n",
    "Here I'll apply Multiple Linear Regression to further analyze these potential predictors."
   ]
  },
  {
   "cell_type": "code",
   "execution_count": 16,
   "id": "b92e37e4",
   "metadata": {},
   "outputs": [
    {
     "name": "stdout",
     "output_type": "stream",
     "text": [
      "                            OLS Regression Results                            \n",
      "==============================================================================\n",
      "Dep. Variable:              Placement   R-squared:                       0.296\n",
      "Model:                            OLS   Adj. R-squared:                  0.296\n",
      "Method:                 Least Squares   F-statistic:                     1402.\n",
      "Date:                Thu, 02 Oct 2025   Prob (F-statistic):               0.00\n",
      "Time:                        14:20:56   Log-Likelihood:                -2545.0\n",
      "No. Observations:               10000   AIC:                             5098.\n",
      "Df Residuals:                    9996   BIC:                             5127.\n",
      "Df Model:                           3                                         \n",
      "Covariance Type:            nonrobust                                         \n",
      "========================================================================================\n",
      "                           coef    std err          t      P>|t|      [0.025      0.975]\n",
      "----------------------------------------------------------------------------------------\n",
      "Intercept               -1.4113      0.027    -52.045      0.000      -1.464      -1.358\n",
      "CGPA                     0.0831      0.002     39.139      0.000       0.079       0.087\n",
      "Communication_Skills     0.0426      0.001     39.591      0.000       0.041       0.045\n",
      "IQ                       0.0072      0.000     34.613      0.000       0.007       0.008\n",
      "==============================================================================\n",
      "Omnibus:                     1064.770   Durbin-Watson:                   1.962\n",
      "Prob(Omnibus):                  0.000   Jarque-Bera (JB):             1445.745\n",
      "Skew:                           0.931   Prob(JB):                         0.00\n",
      "Kurtosis:                       3.080   Cond. No.                         879.\n",
      "==============================================================================\n",
      "\n",
      "Notes:\n",
      "[1] Standard Errors assume that the covariance matrix of the errors is correctly specified.\n"
     ]
    }
   ],
   "source": [
    "#top 3 predictors from prior step = CGPA, Communication Skills, IQ\n",
    "mult_formula = 'Placement ~ CGPA + Communication_Skills + IQ'\n",
    "multilinear_model = smf.ols(formula = mult_formula, data = df).fit()\n",
    "print(multilinear_model.summary())"
   ]
  },
  {
   "cell_type": "markdown",
   "id": "645b520f",
   "metadata": {},
   "source": [
    "## Interpretation of multiliear results: \n",
    "The R-squared of 29.6% shows that 29.6% of the variation in Placement outcomes can be explained by the three factors tested above. While it's not a strong fit, it's not necessarily meaningless. The F-statistic shows that the model as a whole is statistically significant, which means that at least one of these predictors is strongly related to Placement. \n",
    "\n",
    "From these results, I can infer that this model is not capturing most of the variation, so I will move on to a different model."
   ]
  }
 ],
 "metadata": {
  "kernelspec": {
   "display_name": "base",
   "language": "python",
   "name": "python3"
  },
  "language_info": {
   "codemirror_mode": {
    "name": "ipython",
    "version": 3
   },
   "file_extension": ".py",
   "mimetype": "text/x-python",
   "name": "python",
   "nbconvert_exporter": "python",
   "pygments_lexer": "ipython3",
   "version": "3.12.3"
  }
 },
 "nbformat": 4,
 "nbformat_minor": 5
}
